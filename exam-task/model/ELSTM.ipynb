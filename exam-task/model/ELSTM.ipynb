{
  "cells": [
    {
      "cell_type": "code",
      "execution_count": null,
      "metadata": {
        "id": "ryJ1va7z7d-X"
      },
      "outputs": [],
      "source": [
        "import keras.backend as K\n",
        "from keras.layers import Layer, RNN\n",
        "from keras.utils import tf_utils\n",
        "import tensorflow_datasets as tfds\n",
        "from tensorflow.keras.initializers import Constant\n",
        "from tensorflow.keras.models import Sequential\n",
        "from tensorflow.keras.layers import Conv1D, MaxPooling1D, Embedding, Dense\n",
        "from tensorflow.keras.initializers import GlorotUniform, Orthogonal, Zeros\n",
        "from tensorflow.keras.preprocessing.sequence import pad_sequences\n",
        "from tensorflow.keras.preprocessing.text import Tokenizer\n",
        "import tensorflow as tf\n",
        "import numpy as np\n",
        "import os"
      ]
    },
    {
      "cell_type": "code",
      "execution_count": null,
      "metadata": {
        "colab": {
          "base_uri": "https://localhost:8080/"
        },
        "id": "izIQ6uZG7nOk",
        "outputId": "0701964f-beda-4b75-e41e-0c4c296f19d9"
      },
      "outputs": [
        {
          "name": "stdout",
          "output_type": "stream",
          "text": [
            "Requirement already satisfied: wget in /usr/local/lib/python3.7/dist-packages (3.2)\n",
            "--2021-11-28 11:40:42--  http://nlp.stanford.edu/data/glove.6B.zip\n",
            "Resolving nlp.stanford.edu (nlp.stanford.edu)... 171.64.67.140\n",
            "Connecting to nlp.stanford.edu (nlp.stanford.edu)|171.64.67.140|:80... connected.\n",
            "HTTP request sent, awaiting response... 302 Found\n",
            "Location: https://nlp.stanford.edu/data/glove.6B.zip [following]\n",
            "--2021-11-28 11:40:42--  https://nlp.stanford.edu/data/glove.6B.zip\n",
            "Connecting to nlp.stanford.edu (nlp.stanford.edu)|171.64.67.140|:443... connected.\n",
            "HTTP request sent, awaiting response... 301 Moved Permanently\n",
            "Location: http://downloads.cs.stanford.edu/nlp/data/glove.6B.zip [following]\n",
            "--2021-11-28 11:40:43--  http://downloads.cs.stanford.edu/nlp/data/glove.6B.zip\n",
            "Resolving downloads.cs.stanford.edu (downloads.cs.stanford.edu)... 171.64.64.22\n",
            "Connecting to downloads.cs.stanford.edu (downloads.cs.stanford.edu)|171.64.64.22|:80... connected.\n",
            "HTTP request sent, awaiting response... 200 OK\n",
            "Length: 862182613 (822M) [application/zip]\n",
            "Saving to: ‘glove.6B.zip.1’\n",
            "\n",
            "glove.6B.zip.1      100%[===================>] 822.24M  5.12MB/s    in 2m 42s  \n",
            "\n",
            "2021-11-28 11:43:25 (5.09 MB/s) - ‘glove.6B.zip.1’ saved [862182613/862182613]\n",
            "\n",
            "replace glove.6B.50d.txt? [y]es, [n]o, [A]ll, [N]one, [r]ename: н\n",
            "error:  invalid response [н]\n",
            "replace glove.6B.50d.txt? [y]es, [n]o, [A]ll, [N]one, [r]ename: y\n",
            "replace glove.6B.100d.txt? [y]es, [n]o, [A]ll, [N]one, [r]ename: y\n",
            "replace glove.6B.200d.txt? [y]es, [n]o, [A]ll, [N]one, [r]ename: y\n",
            "replace glove.6B.300d.txt? [y]es, [n]o, [A]ll, [N]one, [r]ename: y\n"
          ]
        }
      ],
      "source": [
        "!pip install wget\n",
        "!wget http://nlp.stanford.edu/data/glove.6B.zip\n",
        "!unzip -q glove.6B.zip"
      ]
    },
    {
      "cell_type": "code",
      "execution_count": null,
      "metadata": {
        "id": "aw7kOPSj8W_u"
      },
      "outputs": [],
      "source": [
        "VOCAB_SIZE = 2000\n",
        "OOV = \"<OOV>\"\n",
        "MAX_SEQUENCE_LENGTH = 1000\n",
        "EMBEDDING_DIM = 300\n",
        "BATCH = 32\n",
        "LEARNING_RATE = 0.001\n",
        "EPOCHS = 10\n",
        "GLOVE_FILE = os.path.join('./', f'glove.6B.{EMBEDDING_DIM}d.txt')"
      ]
    },
    {
      "cell_type": "code",
      "execution_count": null,
      "metadata": {
        "id": "gwFf4Tg48YN4"
      },
      "outputs": [],
      "source": [
        "imdb = tfds.load('imdb_reviews', as_supervised=True)\n",
        "train, test = imdb['train'], imdb['test']\n",
        "tokenizer = Tokenizer(num_words=VOCAB_SIZE, oov_token=OOV)"
      ]
    },
    {
      "cell_type": "code",
      "execution_count": null,
      "metadata": {
        "id": "G3GHUK-w82nZ"
      },
      "outputs": [],
      "source": [
        "training_sentences=[]\n",
        "training_labels=[]\n",
        "testing_sentences=[]\n",
        "testing_labels=[]\n",
        "for sentence,label in train:\n",
        "    training_sentences.append(str(sentence.numpy()))\n",
        "    training_labels.append(label.numpy())\n",
        "for sentence,label in test:\n",
        "    testing_sentences.append(str(sentence.numpy()))\n",
        "    testing_labels.append(label.numpy())\n",
        "training_labels_final=np.array(training_labels)\n",
        "testing_labels_final=np.array(testing_labels)"
      ]
    },
    {
      "cell_type": "code",
      "execution_count": null,
      "metadata": {
        "id": "-KlBsxHk83-w"
      },
      "outputs": [],
      "source": [
        "tokenizer.fit_on_texts(training_sentences)\n",
        "word_index = tokenizer.word_index\n",
        "training_sequences=tokenizer.texts_to_sequences(training_sentences)\n",
        "testing_sequences=tokenizer.texts_to_sequences(testing_sentences)\n",
        "training_padded=pad_sequences(training_sequences, maxlen=MAX_SEQUENCE_LENGTH)\n",
        "testing_padded=pad_sequences(testing_sequences, maxlen=MAX_SEQUENCE_LENGTH)\n",
        "train_dataset = tf.data.Dataset.from_tensor_slices((training_padded, training_labels_final))\n",
        "test_dataset = tf.data.Dataset.from_tensor_slices((testing_padded, testing_labels_final))\n",
        "train_dataset = train_dataset.batch(BATCH, drop_remainder=True)\n",
        "test_dataset = test_dataset.batch(BATCH, drop_remainder=True)"
      ]
    },
    {
      "cell_type": "code",
      "execution_count": null,
      "metadata": {
        "id": "EpiFrdvV9HoR"
      },
      "outputs": [],
      "source": [
        "embeddings_index = {}\n",
        "with open(GLOVE_FILE) as f:\n",
        "  for line in f:\n",
        "    word, coefs = line.split(maxsplit=1)\n",
        "    coefs = np.fromstring(coefs, \"f\", sep=\" \")\n",
        "    embeddings_index[word] = coefs"
      ]
    },
    {
      "cell_type": "code",
      "execution_count": null,
      "metadata": {
        "id": "V4nvVizH-LqG"
      },
      "outputs": [],
      "source": [
        "num_words = min(VOCAB_SIZE, len(word_index)) + 1\n",
        "embedding_matrix = np.zeros((num_words, EMBEDDING_DIM))\n",
        "for word, i in word_index.items():\n",
        "  if i > VOCAB_SIZE: continue\n",
        "  embedding_vector = embeddings_index.get(word)\n",
        "  if embedding_vector is not None:\n",
        "    embedding_matrix[i] = embedding_vector"
      ]
    },
    {
      "cell_type": "code",
      "execution_count": null,
      "metadata": {
        "id": "mxPIQ6Is-P31"
      },
      "outputs": [],
      "source": [
        "class ELSTMCell(Layer):\n",
        "  def __init__(self, units, epochs, **kwargs):\n",
        "    self.state_size = [units, units]\n",
        "    self.units = units\n",
        "    self.h_sp = tf.Variable(\n",
        "        [[.0] * units for _ in range(units)], trainable=False)\n",
        "    self.exp_sum = tf.Variable(\n",
        "        [[.0] * units for _ in range(units)], trainable=False)\n",
        "    self.e_t = tf.Variable(\n",
        "        [[.0] * units for _ in range(units)], dtype=tf.float64, trainable=False)\n",
        "    self.ro_min = tf.Variable(.0001, dtype=tf.float64, trainable=False)\n",
        "    self.ro_max = tf.Variable(.01, dtype=tf.float64, trainable=False)\n",
        "    self.cur_epoch = tf.Variable(1, dtype=tf.float64, trainable=False)\n",
        "    self.epochs = epochs\n",
        "    super(ELSTMCell, self).__init__(**kwargs)\n",
        "\n",
        "  def get_config(self):\n",
        "    config = super().get_config()\n",
        "    config.update({\n",
        "        \"units\": self.units,\n",
        "        \"epochs\": self.epochs\n",
        "    })\n",
        "    return config\n",
        "\n",
        "  def set_current_epoch(self, val):\n",
        "    self.cur_epoch.assign(val)\n",
        "\n",
        "  def clear_accumulators(self):\n",
        "    self.h_sp.assign([[.0] * self.units for _ in range(self.units)])\n",
        "    self.exp_sum.assign([[.0] * self.units for _ in range(self.units)])\n",
        "    self.e_t.assign([[.0] * self.units for _ in range(self.units)])\n",
        "\n",
        "  @tf_utils.shape_type_conversion\n",
        "  def build(self, input_shape):\n",
        "    input_dim = input_shape[-1]\n",
        "\n",
        "    self.kernel = self.add_weight(shape=(input_dim, self.units * 4),\n",
        "                                  name='kernel',\n",
        "                                  initializer=GlorotUniform())\n",
        "\n",
        "    self.recurrent_kernel = self.add_weight(shape=(self.units, self.units * 4),\n",
        "                                            name='recurrent_kernel',\n",
        "                                            initializer=Orthogonal())\n",
        "\n",
        "    self.bias = self.add_weight(shape=(self.units * 4,),\n",
        "                                name='bias',\n",
        "                                initializer=Zeros())\n",
        "\n",
        "    self.built = True\n",
        "\n",
        "  @tf.function\n",
        "  def call(self, inputs, states, training=None):\n",
        "    h_tm1 = states[0]\n",
        "    c_tm1 = states[1]\n",
        "\n",
        "    self.exp_sum.assign_add(tf.math.exp(tf.transpose(h_tm1) * self.h_sp))\n",
        "    inputs_i = inputs\n",
        "    inputs_f = inputs\n",
        "    inputs_c = inputs\n",
        "    inputs_o = inputs\n",
        "\n",
        "    k_i, k_f, k_c, k_o = tf.split(\n",
        "        self.kernel, num_or_size_splits=4, axis=1)\n",
        "\n",
        "    x_i = K.dot(inputs_i, k_i)\n",
        "    x_f = K.dot(inputs_f, k_f)\n",
        "    x_c = K.dot(inputs_c, k_c)\n",
        "    x_o = K.dot(inputs_o, k_o)\n",
        "\n",
        "    b_i, b_f, b_c, b_o = tf.split(self.bias, num_or_size_splits=4, axis=0)\n",
        "\n",
        "    x_i = K.bias_add(x_i, b_i)\n",
        "    x_f = K.bias_add(x_f, b_f)\n",
        "    x_c = K.bias_add(x_c, b_c)\n",
        "    x_o = K.bias_add(x_o, b_o)\n",
        "\n",
        "    h_tm1_i = h_tm1\n",
        "    h_tm1_f = h_tm1\n",
        "    h_tm1_c = h_tm1\n",
        "    h_tm1_o = h_tm1\n",
        "\n",
        "    x = (x_i, x_f, x_c, x_o)\n",
        "    h_tm1 = (h_tm1_i, h_tm1_f, h_tm1_c, h_tm1_o)\n",
        "\n",
        "    c, o = self._compute_carry_and_output(x, h_tm1, c_tm1)\n",
        "    self.h_sp.assign_add(states[0])\n",
        "    h = o * tf.keras.activations.tanh(c)\n",
        "\n",
        "    return h, [h, c]\n",
        "\n",
        "  @tf.function\n",
        "  def _compute_carry_and_output(self, x, h_tm1, c_tm1):\n",
        "    x_i, x_f, x_c, x_o = x\n",
        "    h_tm1_i, h_tm1_f, h_tm1_c, h_tm1_o = h_tm1\n",
        "\n",
        "    i = tf.keras.activations.hard_sigmoid(\n",
        "      x_i + K.dot(h_tm1_i, self.recurrent_kernel[:, :self.units]))\n",
        "\n",
        "    es = self.emotion_estimator(h_tm1_i)\n",
        "    self.emotion_modulator(x_o, es)\n",
        "    f = tf.keras.activations.hard_sigmoid(x_f + K.dot(\n",
        "      h_tm1_f, self.recurrent_kernel[:, self.units:self.units * 2]))\n",
        "    f = tf.cast(self.e_t, dtype=tf.float32) * f\n",
        "    o = tf.keras.activations.hard_sigmoid(\n",
        "      x_o + K.dot(h_tm1_o, self.recurrent_kernel[:, self.units * 3:]))\n",
        "    a = tf.keras.activations.tanh(x_c + K.dot(\n",
        "      h_tm1_c, self.recurrent_kernel[:, self.units * 2:self.units * 3]))\n",
        "\n",
        "    c = f * c_tm1 + i * a\n",
        "    return c, o\n",
        "\n",
        "  @tf.function\n",
        "  def emotion_estimator(self, h_t):\n",
        "    exp_new = tf.math.exp(tf.transpose(h_t) * self.h_sp)\n",
        "    p = exp_new / self.exp_sum\n",
        "    return tf.math.reduce_mean(p) > .3\n",
        "\n",
        "  @tf.function\n",
        "  def emotion_modulator(self, x_o, es):\n",
        "    to_f64 = lambda x: tf.cast(x, dtype=tf.float64)\n",
        "    ro_dif = self.ro_max - self.ro_min\n",
        "    ep = (self.epochs - self.cur_epoch) / self.epochs\n",
        "    ro = to_f64(ro_dif) * ep + self.ro_min\n",
        "    ro_h = ro * to_f64(tf.math.abs(x_o - self.h_sp))\n",
        "    if es: self.e_t.assign(self.e_t + ro_h)\n",
        "    else: self.e_t.assign(self.e_t - ro_h)\n",
        "    self.normalize_e_t()\n",
        "\n",
        "  @tf.function\n",
        "  def normalize_e_t(self):\n",
        "    min_e = tf.reduce_min(self.e_t)\n",
        "    max_e = tf.reduce_max(self.e_t)\n",
        "    if max_e > min_e:\n",
        "      normalized = 2. * (self.e_t - min_e) / (max_e - min_e) - 1.\n",
        "      self.e_t.assign(normalized)"
      ]
    },
    {
      "cell_type": "code",
      "execution_count": null,
      "metadata": {
        "id": "MxEnl-V0-S0D"
      },
      "outputs": [],
      "source": [
        "class EpochSetterCallback(tf.keras.callbacks.Callback):\n",
        "  def on_epoch_begin(self, epoch, logs=None):\n",
        "    for l in self.model.layers:\n",
        "      if isinstance(l, RNN):\n",
        "        l.cell.clear_accumulators()\n",
        "        l.cell.set_current_epoch(epoch)"
      ]
    },
    {
      "cell_type": "code",
      "execution_count": null,
      "metadata": {
        "id": "s5eSOhy5-Yr4"
      },
      "outputs": [],
      "source": [
        "embedding_layer = Embedding(num_words,\n",
        "                            EMBEDDING_DIM,\n",
        "                            embeddings_initializer=Constant(embedding_matrix),\n",
        "                            input_length=MAX_SEQUENCE_LENGTH,\n",
        "                            trainable=False)"
      ]
    },
    {
      "cell_type": "code",
      "execution_count": null,
      "metadata": {
        "id": "aqeY221L-csU"
      },
      "outputs": [],
      "source": [
        "model = Sequential([\n",
        "  embedding_layer,\n",
        "  Conv1D(32, 4, padding='same', activation='relu'),\n",
        "  MaxPooling1D(4),\n",
        "  RNN(ELSTMCell(BATCH, EPOCHS)),\n",
        "  Dense(1, activation='sigmoid')\n",
        "])"
      ]
    },
    {
      "cell_type": "code",
      "execution_count": null,
      "metadata": {
        "id": "McTbppXe-ggC"
      },
      "outputs": [],
      "source": [
        "model.compile(loss='binary_crossentropy',\n",
        "              optimizer=tf.optimizers.Adam(LEARNING_RATE),\n",
        "              metrics=['accuracy'])"
      ]
    },
    {
      "cell_type": "code",
      "execution_count": null,
      "metadata": {
        "colab": {
          "base_uri": "https://localhost:8080/"
        },
        "id": "RTAqK0JQ-jcv",
        "outputId": "9d3ba48f-d709-49ed-c86a-621aed9d0347"
      },
      "outputs": [
        {
          "name": "stdout",
          "output_type": "stream",
          "text": [
            "Epoch 1/10\n",
            "781/781 [==============================] - 859s 1s/step - loss: 0.5394 - accuracy: 0.7231 - val_loss: 0.4442 - val_accuracy: 0.7983 - lr: 0.0010\n",
            "Epoch 2/10\n",
            "781/781 [==============================] - 848s 1s/step - loss: 0.4120 - accuracy: 0.8166 - val_loss: 0.3703 - val_accuracy: 0.8442 - lr: 9.9990e-04\n",
            "Epoch 3/10\n",
            "781/781 [==============================] - 847s 1s/step - loss: 0.5248 - accuracy: 0.7408 - val_loss: 0.3818 - val_accuracy: 0.8353 - lr: 9.9970e-04\n",
            "Epoch 4/10\n",
            "781/781 [==============================] - 843s 1s/step - loss: 0.4576 - accuracy: 0.7913 - val_loss: 0.3788 - val_accuracy: 0.8361 - lr: 9.9940e-04\n",
            "Epoch 5/10\n",
            "781/781 [==============================] - 846s 1s/step - loss: 0.3594 - accuracy: 0.8456 - val_loss: 0.3494 - val_accuracy: 0.8490 - lr: 9.9900e-04\n",
            "Epoch 6/10\n",
            "781/781 [==============================] - 847s 1s/step - loss: 0.4439 - accuracy: 0.7993 - val_loss: 0.4555 - val_accuracy: 0.7943 - lr: 9.9850e-04\n",
            "Epoch 7/10\n",
            "781/781 [==============================] - 846s 1s/step - loss: 0.3790 - accuracy: 0.8398 - val_loss: 0.3411 - val_accuracy: 0.8548 - lr: 9.9790e-04\n",
            "Epoch 8/10\n",
            "781/781 [==============================] - 852s 1s/step - loss: 0.3442 - accuracy: 0.8557 - val_loss: 0.4201 - val_accuracy: 0.8333 - lr: 9.9720e-04\n",
            "Epoch 9/10\n",
            "781/781 [==============================] - 852s 1s/step - loss: 0.3647 - accuracy: 0.8502 - val_loss: 0.3629 - val_accuracy: 0.8542 - lr: 9.9641e-04\n",
            "Epoch 10/10\n",
            "781/781 [==============================] - 849s 1s/step - loss: 0.3633 - accuracy: 0.8460 - val_loss: 0.3602 - val_accuracy: 0.8530 - lr: 9.9551e-04\n"
          ]
        }
      ],
      "source": [
        "def lr_time_based_decay(epoch, lr):\n",
        "  return lr * 1 / (1 + LEARNING_RATE / EPOCHS * epoch)\n",
        "\n",
        "history = model.fit(\n",
        "    train_dataset,\n",
        "    epochs=EPOCHS,\n",
        "    validation_data=(test_dataset),\n",
        "    callbacks=[\n",
        "      tf.keras.callbacks.LearningRateScheduler(lr_time_based_decay),\n",
        "      EpochSetterCallback()\n",
        "    ]\n",
        ")"
      ]
    },
    {
      "cell_type": "code",
      "execution_count": null,
      "metadata": {
        "colab": {
          "base_uri": "https://localhost:8080/"
        },
        "id": "z-96y2wGYrCe",
        "outputId": "31ac01bc-671c-439c-9378-1828db5872ef"
      },
      "outputs": [
        {
          "name": "stdout",
          "output_type": "stream",
          "text": [
            "Mounted at /content/gdrive\n",
            "INFO:tensorflow:Assets written to: /content/gdrive/MyDrive/model1/assets\n"
          ]
        },
        {
          "name": "stderr",
          "output_type": "stream",
          "text": [
            "INFO:tensorflow:Assets written to: /content/gdrive/MyDrive/model1/assets\n"
          ]
        }
      ],
      "source": [
        "from google.colab import drive\n",
        "drive.mount('/content/gdrive')\n",
        "model.save('/content/gdrive/MyDrive/model1', save_format='tf')"
      ]
    },
    {
      "cell_type": "code",
      "execution_count": null,
      "metadata": {
        "colab": {
          "base_uri": "https://localhost:8080/",
          "height": 573
        },
        "id": "v6MgJxj-1aDo",
        "outputId": "dc074731-bced-4286-91fd-ca3ff3378810"
      },
      "outputs": [
        {
          "data": {
            "image/png": "[encoded data removed]",
            "text/plain": [
              "<Figure size 432x288 with 1 Axes>"
            ]
          },
          "metadata": {
            "needs_background": "light"
          },
          "output_type": "display_data"
        },
        {
          "data": {
            "image/png": "[encoded data removed]",
            "text/plain": [
              "<Figure size 432x288 with 1 Axes>"
            ]
          },
          "metadata": {
            "needs_background": "light"
          },
          "output_type": "display_data"
        }
      ],
      "source": [
        "import matplotlib.pyplot as plt\n",
        "\n",
        "def plot(train_data, val_data, loss=True):\n",
        "\ttitle = 'loss' if loss else 'accuracy'\n",
        "\tplt.figure()\n",
        "\tplt.title(f'Training {title}')\n",
        "\tplt.xlabel('epoch')\n",
        "\tplt.ylabel(title)\n",
        "\tplt.plot(train_data, label=f'train_{title}')\n",
        "\tplt.plot(val_data, label=f'val_{title}')\n",
        "\tplt.legend()\n",
        "\tplt.show()\n",
        " \n",
        "plot(history.history['loss'], history.history['val_loss'])\n",
        "plot(history.history['accuracy'], history.history['val_accuracy'], loss=False)"
      ]
    },
    {
      "cell_type": "code",
      "execution_count": null,
      "metadata": {
        "colab": {
          "base_uri": "https://localhost:8080/"
        },
        "id": "86YHrVpR5Ks4",
        "outputId": "c64ff10c-3e51-486d-e770-1870fc2f4fbb"
      },
      "outputs": [
        {
          "name": "stdout",
          "output_type": "stream",
          "text": [
            "Epoch 1/5\n",
            "781/781 [==============================] - 855s 1s/step - loss: 0.3957 - accuracy: 0.8234 - val_loss: 0.3528 - val_accuracy: 0.8586 - lr: 9.9551e-04\n",
            "Epoch 2/5\n",
            "781/781 [==============================] - 858s 1s/step - loss: 0.3057 - accuracy: 0.8765 - val_loss: 0.3616 - val_accuracy: 0.8533 - lr: 9.9541e-04\n",
            "Epoch 3/5\n",
            "781/781 [==============================] - 856s 1s/step - loss: 0.3306 - accuracy: 0.8604 - val_loss: 0.4355 - val_accuracy: 0.7889 - lr: 9.9521e-04\n",
            "Epoch 4/5\n",
            "781/781 [==============================] - 853s 1s/step - loss: 0.2937 - accuracy: 0.8788 - val_loss: 0.3316 - val_accuracy: 0.8573 - lr: 9.9491e-04\n",
            "Epoch 5/5\n",
            "781/781 [==============================] - 854s 1s/step - loss: 0.2826 - accuracy: 0.8860 - val_loss: 0.3327 - val_accuracy: 0.8625 - lr: 9.9452e-04\n"
          ]
        }
      ],
      "source": [
        "history = model.fit(\n",
        "    train_dataset,\n",
        "    epochs=5,\n",
        "    validation_data=(test_dataset),\n",
        "    callbacks=[\n",
        "      tf.keras.callbacks.LearningRateScheduler(lr_time_based_decay),\n",
        "      EpochSetterCallback()\n",
        "    ]\n",
        ")"
      ]
    },
    {
      "cell_type": "code",
      "execution_count": null,
      "metadata": {
        "colab": {
          "base_uri": "https://localhost:8080/"
        },
        "id": "oK0TNJhsJ-H-",
        "outputId": "d0b26f1c-cc55-4f18-b9da-d3d69ed0cf65"
      },
      "outputs": [
        {
          "name": "stdout",
          "output_type": "stream",
          "text": [
            "INFO:tensorflow:Assets written to: /content/gdrive/MyDrive/model2/assets\n"
          ]
        },
        {
          "name": "stderr",
          "output_type": "stream",
          "text": [
            "INFO:tensorflow:Assets written to: /content/gdrive/MyDrive/model2/assets\n"
          ]
        }
      ],
      "source": [
        "model.save('/content/gdrive/MyDrive/model2', save_format='tf')"
      ]
    }
  ],
  "metadata": {
    "accelerator": "GPU",
    "colab": {
      "collapsed_sections": [],
      "name": "ELSTM.ipynb",
      "provenance": []
    },
    "kernelspec": {
      "display_name": "Python 3",
      "name": "python3"
    },
    "language_info": {
      "name": "python"
    }
  },
  "nbformat": 4,
  "nbformat_minor": 0
}
